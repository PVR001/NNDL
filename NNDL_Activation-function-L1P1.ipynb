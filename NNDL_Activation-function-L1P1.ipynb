{
  "nbformat": 4,
  "nbformat_minor": 0,
  "metadata": {
    "colab": {
      "provenance": [],
      "collapsed_sections": []
    },
    "kernelspec": {
      "name": "python3",
      "display_name": "Python 3"
    },
    "language_info": {
      "name": "python"
    }
  },
  "cells": [
    {
      "cell_type": "code",
      "execution_count": null,
      "metadata": {
        "id": "kMTKYrOVePjM"
      },
      "outputs": [],
      "source": [
        "import numpy as np\n",
        "import matplotlib.pyplot as plt"
      ]
    },
    {
      "cell_type": "markdown",
      "source": [
        "SIGMOIDAL / LogisticFUNCTION"
      ],
      "metadata": {
        "id": "0BQHLsfPgo5O"
      }
    },
    {
      "cell_type": "code",
      "source": [
        "import numpy as np \n",
        "def sig(x):\n",
        " return 1/(1 + np.exp(-x))\n",
        "\n",
        "\n",
        "x = 1.0\n",
        "print('Applying Sigmoid Activation on (%.1f) gives %.1f' % (x, sig(x)))\n",
        "\n",
        "x = -10.0\n",
        "print('Applying Sigmoid Activation on (%.1f) gives %.1f' % (x, sig(x)))\n",
        "\n",
        "x = 0.0\n",
        "print('Applying Sigmoid Activation on (%.1f) gives %.1f' % (x, sig(x)))\n",
        "\n",
        "x = 15.0\n",
        "print('Applying Sigmoid Activation on (%.1f) gives %.1f' % (x, sig(x)))\n",
        "\n",
        "x = -2.0\n",
        "print('Applying Sigmoid Activation on (%.1f) gives %.1f' % (x, sig(x)))"
      ],
      "metadata": {
        "colab": {
          "base_uri": "https://localhost:8080/"
        },
        "id": "HoPEGvXCejnf",
        "outputId": "a840f9d7-2ca0-4bb6-e33b-af38d5ddce10"
      },
      "execution_count": null,
      "outputs": [
        {
          "output_type": "stream",
          "name": "stdout",
          "text": [
            "Applying Sigmoid Activation on (1.0) gives 0.7\n",
            "Applying Sigmoid Activation on (-10.0) gives 0.0\n",
            "Applying Sigmoid Activation on (0.0) gives 0.5\n",
            "Applying Sigmoid Activation on (15.0) gives 1.0\n",
            "Applying Sigmoid Activation on (-2.0) gives 0.1\n"
          ]
        }
      ]
    },
    {
      "cell_type": "code",
      "source": [
        "x = np.linspace(-10, 10, 50)   \n",
        "p = sig(x)\n",
        "plt.xlabel(\"x\") \n",
        "plt.ylabel(\"Sigmoid(x)\")  \n",
        "plt.plot(x, p) \n",
        "plt.grid()\n",
        "plt.show()"
      ],
      "metadata": {
        "colab": {
          "base_uri": "https://localhost:8080/",
          "height": 279
        },
        "id": "I4POXVQGgUpM",
        "outputId": "ab3b0f33-5a91-4601-cabd-d10719062a3c"
      },
      "execution_count": null,
      "outputs": [
        {
          "output_type": "display_data",
          "data": {
            "text/plain": [
              "<Figure size 432x288 with 1 Axes>"
            ],
            "image/png": "[encoded data removed]"
          },
          "metadata": {
            "needs_background": "light"
          }
        }
      ]
    },
    {
      "cell_type": "markdown",
      "source": [
        "LINEAR ACTIVATION FUNCTION"
      ],
      "metadata": {
        "id": "bWCygbzmhBkI"
      }
    },
    {
      "cell_type": "code",
      "source": [
        "x_data = np.linspace(-6,6,100)\n",
        "z=x\n",
        "plt.plot(x, z)\n",
        "plt.title('Linear Activation Function ')\n",
        "plt.legend(['linea'])\n",
        "plt.grid()\n",
        "plt.show()\n"
      ],
      "metadata": {
        "colab": {
          "base_uri": "https://localhost:8080/",
          "height": 281
        },
        "id": "VMbewexWkAR4",
        "outputId": "8d45a22b-a63e-4096-cc22-db5f55b8c7e8"
      },
      "execution_count": null,
      "outputs": [
        {
          "output_type": "display_data",
          "data": {
            "text/plain": [
              "<Figure size 432x288 with 1 Axes>"
            ],
            "image/png": "[encoded data removed]"
          },
          "metadata": {
            "needs_background": "light"
          }
        }
      ]
    },
    {
      "cell_type": "markdown",
      "source": [
        "HYPERBLIC TANGENT FUNCTION"
      ],
      "metadata": {
        "id": "GXiH0KD5ireJ"
      }
    },
    {
      "cell_type": "code",
      "source": [
        "def htan(x):\n",
        "  return (np.exp(x) - np.exp(-x))/(np.exp(x) + np.exp(-x))"
      ],
      "metadata": {
        "id": "0vWPSdrViYOu"
      },
      "execution_count": null,
      "outputs": []
    },
    {
      "cell_type": "code",
      "source": [
        "\n",
        "y_data = htan(x_data)"
      ],
      "metadata": {
        "id": "AGGOwhSuieaM"
      },
      "execution_count": null,
      "outputs": []
    },
    {
      "cell_type": "code",
      "source": [
        "x_data = np.linspace(-6,6,100)\n",
        "plt.plot(x, z)\n",
        "plt.title('htanr Activation Function ')\n",
        "plt.legend(['htan'])\n",
        "plt.grid()\n",
        "plt.show()\n"
      ],
      "metadata": {
        "colab": {
          "base_uri": "https://localhost:8080/",
          "height": 281
        },
        "id": "YtBfhiZ7iidZ",
        "outputId": "df3a23d7-6f8b-449a-a8ce-61fddc9f4849"
      },
      "execution_count": null,
      "outputs": [
        {
          "output_type": "display_data",
          "data": {
            "text/plain": [
              "<Figure size 432x288 with 1 Axes>"
            ],
            "image/png": "[encoded data removed]"
          },
          "metadata": {
            "needs_background": "light"
          }
        }
      ]
    },
    {
      "cell_type": "markdown",
      "source": [
        "SIGN(SIGNUM) ACTIVATION FUNCTION"
      ],
      "metadata": {
        "id": "OC7E1lrdlGeu"
      }
    },
    {
      "cell_type": "code",
      "source": [
        "x=np.arange(-20,20,1)\n",
        "z = []\n",
        "\n",
        "for i in x:\n",
        "  if i < 0:\n",
        "    z.append(-1)\n",
        "  elif i == 0:\n",
        "    z.append(0)\n",
        "  else:\n",
        "    z.append(1)\n",
        "\n",
        "print(\"x value:\\n\")\n",
        "print(x)\n",
        "print(\"z value :\\n\")\n",
        "print(z)\n",
        "\n",
        "plt.plot(z)\n",
        "plt.xlabel(\"x\")\n",
        "plt.ylabel(\"Signum(x)\")\n",
        "\n",
        "plt.show()"
      ],
      "metadata": {
        "colab": {
          "base_uri": "https://localhost:8080/",
          "height": 427
        },
        "id": "3kFb72D7lCAa",
        "outputId": "ef7b5b33-3985-4a5f-8ab7-6bd9492e4eb3"
      },
      "execution_count": null,
      "outputs": [
        {
          "output_type": "stream",
          "name": "stdout",
          "text": [
            "x value:\n",
            "\n",
            "[-20 -19 -18 -17 -16 -15 -14 -13 -12 -11 -10  -9  -8  -7  -6  -5  -4  -3\n",
            "  -2  -1   0   1   2   3   4   5   6   7   8   9  10  11  12  13  14  15\n",
            "  16  17  18  19]\n",
            "z value :\n",
            "\n",
            "[-1, -1, -1, -1, -1, -1, -1, -1, -1, -1, -1, -1, -1, -1, -1, -1, -1, -1, -1, -1, 0, 1, 1, 1, 1, 1, 1, 1, 1, 1, 1, 1, 1, 1, 1, 1, 1, 1, 1, 1]\n"
          ]
        },
        {
          "output_type": "display_data",
          "data": {
            "text/plain": [
              "<Figure size 432x288 with 1 Axes>"
            ],
            "image/png": "[encoded data removed]"
          },
          "metadata": {
            "needs_background": "light"
          }
        }
      ]
    },
    {
      "cell_type": "markdown",
      "source": [
        "UNIT STEP (HEAVISIDE)"
      ],
      "metadata": {
        "id": "A5WNxOJ0qePE"
      }
    },
    {
      "cell_type": "code",
      "source": [
        "x=np.arange(-10,10,1)\n",
        "z = []\n",
        "\n",
        "for i in x:\n",
        "  if i < 0:\n",
        "    z.append(0)\n",
        "  elif i == 0:\n",
        "    z.append(0.5)\n",
        "  else:\n",
        "    z.append(1)\n",
        "\n",
        "print(\"x value :\\n\")\n",
        "print(x)\n",
        "print(\"z value :\\n\")\n",
        "print(z)\n",
        "\n",
        "plt.plot(z)\n",
        "plt.xlabel(\"x\")\n",
        "plt.ylabel(\"Heaviside(x)\")\n",
        "\n",
        "plt.show()"
      ],
      "metadata": {
        "id": "nR4r5MO7l4cY",
        "colab": {
          "base_uri": "https://localhost:8080/",
          "height": 408
        },
        "outputId": "767988f5-e89e-4cf4-cfe3-8105185f79e0"
      },
      "execution_count": null,
      "outputs": [
        {
          "output_type": "stream",
          "name": "stdout",
          "text": [
            "x value :\n",
            "\n",
            "[-10  -9  -8  -7  -6  -5  -4  -3  -2  -1   0   1   2   3   4   5   6   7\n",
            "   8   9]\n",
            "z value :\n",
            "\n",
            "[0, 0, 0, 0, 0, 0, 0, 0, 0, 0, 0.5, 1, 1, 1, 1, 1, 1, 1, 1, 1]\n"
          ]
        },
        {
          "output_type": "display_data",
          "data": {
            "text/plain": [
              "<Figure size 432x288 with 1 Axes>"
            ],
            "image/png": "[encoded data removed]"
          },
          "metadata": {
            "needs_background": "light"
          }
        }
      ]
    },
    {
      "cell_type": "markdown",
      "source": [
        "PIECE-WISE LINEAR"
      ],
      "metadata": {
        "id": "h9NilzYnqprA"
      }
    },
    {
      "cell_type": "code",
      "source": [
        "x=np.arange(-10,10,5)\n",
        "z = []\n",
        "\n",
        "for i in x:\n",
        "  if i >= 1/2:\n",
        "    z.append(1)\n",
        "  elif i < 1/2 or i > -1/2:\n",
        "    z.append(i+(1/2))\n",
        "  else: # i <= - 1/2\n",
        "    z.append(0)\n",
        "\n",
        "print(x)\n",
        "print(z)\n",
        "\n",
        "plt.xlim((-12,12))\n",
        "plt.ylim((-12,12))\n",
        "plt.plot(z)\n",
        "plt.xlabel(\"x\")\n",
        "plt.ylabel(\"PieceWiseLinear(x)\")\n",
        "\n",
        "plt.show()"
      ],
      "metadata": {
        "colab": {
          "base_uri": "https://localhost:8080/",
          "height": 316
        },
        "id": "iOBYpUcXqrb0",
        "outputId": "d1a01813-c2fc-4cfc-80ff-480bf53251c2"
      },
      "execution_count": null,
      "outputs": [
        {
          "output_type": "stream",
          "name": "stdout",
          "text": [
            "[-10  -5   0   5]\n",
            "[-9.5, -4.5, 0.5, 1]\n"
          ]
        },
        {
          "output_type": "display_data",
          "data": {
            "text/plain": [
              "<Figure size 432x288 with 1 Axes>"
            ],
            "image/png": "[encoded data removed]"
          },
          "metadata": {
            "needs_background": "light"
          }
        }
      ]
    }
  ]
}
