{
  "nbformat": 4,
  "nbformat_minor": 0,
  "metadata": {
    "colab": {
      "provenance": []
    },
    "kernelspec": {
      "name": "python3",
      "display_name": "Python 3"
    },
    "language_info": {
      "name": "python"
    }
  },
  "cells": [
    {
      "cell_type": "code",
      "execution_count": 1,
      "metadata": {
        "id": "mP5orU6qcEBG"
      },
      "outputs": [],
      "source": [
        "import numpy as np\n",
        "import math"
      ]
    },
    {
      "cell_type": "code",
      "source": [
        "input = np.random.randint(10, size=(5,5))\n",
        "kernel = np.random.randint(0,2,(3,3))"
      ],
      "metadata": {
        "id": "PGLD99hKcIcQ"
      },
      "execution_count": 2,
      "outputs": []
    },
    {
      "cell_type": "code",
      "source": [
        "def convolve(input, kernel, padding, stride):\n",
        "  Nout = int((((input.shape)[0] + (2*padding) - (kernel.shape)[0])/stride) + 1)\n",
        "  output = np.zeros((Nout, Nout))\n",
        "  x=0\n",
        "  y=0\n",
        "  size = len(output[0])\n",
        "  for j in range(0,size):\n",
        "    for i in range(0,size):\n",
        "      submatrix = input[x:x+(kernel.shape)[0],y:y+(kernel.shape)[0]]\n",
        "      output[j][i] = (np.multiply(submatrix,kernel)).sum()\n",
        "      y = y + stride\n",
        "    y = 0\n",
        "    x = x + stride\n",
        "  return output   "
      ],
      "metadata": {
        "id": "l4TmPzpqcVx0"
      },
      "execution_count": 3,
      "outputs": []
    },
    {
      "cell_type": "code",
      "source": [
        "padding = 0\n",
        "stride = 1"
      ],
      "metadata": {
        "id": "U2stSnKFeTp7"
      },
      "execution_count": 4,
      "outputs": []
    },
    {
      "cell_type": "markdown",
      "source": [
        "**STRIDE 1**"
      ],
      "metadata": {
        "id": "fh7aF-RbesN6"
      }
    },
    {
      "cell_type": "code",
      "source": [
        "output1 = convolve(input, kernel, padding = 0 ,stride = 1)"
      ],
      "metadata": {
        "id": "_s4UPkXgeeBM"
      },
      "execution_count": 5,
      "outputs": []
    },
    {
      "cell_type": "code",
      "source": [
        "output1"
      ],
      "metadata": {
        "colab": {
          "base_uri": "https://localhost:8080/"
        },
        "id": "6Fy1w_sGe77r",
        "outputId": "14b5eef8-27c0-4036-a353-3ff78b7e6207"
      },
      "execution_count": 6,
      "outputs": [
        {
          "output_type": "execute_result",
          "data": {
            "text/plain": [
              "array([[37., 35., 43.],\n",
              "       [44., 34., 41.],\n",
              "       [33., 33., 24.]])"
            ]
          },
          "metadata": {},
          "execution_count": 6
        }
      ]
    },
    {
      "cell_type": "markdown",
      "source": [
        "**STRIDE 2**"
      ],
      "metadata": {
        "id": "KcInzQozmlLX"
      }
    },
    {
      "cell_type": "code",
      "source": [
        "output2 = convolve(input, kernel, padding = 0 ,stride = 2)"
      ],
      "metadata": {
        "id": "9bd8UYwZfAmA"
      },
      "execution_count": 7,
      "outputs": []
    },
    {
      "cell_type": "code",
      "source": [
        "output2"
      ],
      "metadata": {
        "colab": {
          "base_uri": "https://localhost:8080/"
        },
        "id": "ANslfCx_fGBY",
        "outputId": "8e92a38e-7afa-4e2e-a31b-7a8a946ea2bc"
      },
      "execution_count": 8,
      "outputs": [
        {
          "output_type": "execute_result",
          "data": {
            "text/plain": [
              "array([[37., 43.],\n",
              "       [33., 24.]])"
            ]
          },
          "metadata": {},
          "execution_count": 8
        }
      ]
    },
    {
      "cell_type": "code",
      "source": [
        "def Pooling(input,filterShape,stride,poolingType):\n",
        "  Nout = int((((input.shape)[0] - filterShape)/stride) + 1)\n",
        "  output = np.zeros((Nout, Nout))\n",
        "  x = y = 0\n",
        "  size = len(output[0])\n",
        "  for j in range(0,size):\n",
        "    for i in range(0,size):\n",
        "      submatrix = input[x:x + filterShape,y:y + filterShape]\n",
        "      if poolingType == 'max':\n",
        "        output[j][i] = submatrix.max()\n",
        "      elif poolingType == 'average':\n",
        "        output[j][i] = np.average(submatrix)\n",
        "      else:\n",
        "        output[j][i] = submatrix.sum()\n",
        "      y = y + stride\n",
        "    y = 0\n",
        "    x = x + stride \n",
        "  return output    "
      ],
      "metadata": {
        "id": "sJFCUv_ZfLZT"
      },
      "execution_count": 9,
      "outputs": []
    },
    {
      "cell_type": "markdown",
      "source": [
        "**Sum Pooling**"
      ],
      "metadata": {
        "id": "OHjZD7Fehw0w"
      }
    },
    {
      "cell_type": "code",
      "source": [
        "sumPooled = Pooling(output1,2,1,'sum')\n",
        "print(\"Sum Pooling : \\n\",sumPooled)"
      ],
      "metadata": {
        "colab": {
          "base_uri": "https://localhost:8080/"
        },
        "id": "rEeZbd_ugvfN",
        "outputId": "7a7cbd9b-e8cf-4a86-811c-13ef1f0db348"
      },
      "execution_count": 10,
      "outputs": [
        {
          "output_type": "stream",
          "name": "stdout",
          "text": [
            "Sum Pooling : \n",
            " [[150. 153.]\n",
            " [144. 132.]]\n"
          ]
        }
      ]
    },
    {
      "cell_type": "markdown",
      "source": [
        "**Average Pooling**"
      ],
      "metadata": {
        "id": "87oZsbhThtpw"
      }
    },
    {
      "cell_type": "code",
      "source": [
        "avgPooled = Pooling(output1,2,1,'average')\n",
        "print(\"Average Pooling : \\n\",avgPooled)"
      ],
      "metadata": {
        "colab": {
          "base_uri": "https://localhost:8080/"
        },
        "id": "SSvpsEk-hZPS",
        "outputId": "751a740e-0ad4-4bf0-d798-c4d40a55a12d"
      },
      "execution_count": 11,
      "outputs": [
        {
          "output_type": "stream",
          "name": "stdout",
          "text": [
            "Average Pooling : \n",
            " [[37.5  38.25]\n",
            " [36.   33.  ]]\n"
          ]
        }
      ]
    },
    {
      "cell_type": "markdown",
      "source": [
        "**Max Pooling**"
      ],
      "metadata": {
        "id": "gRyaqEy1hrGA"
      }
    },
    {
      "cell_type": "code",
      "source": [
        "maxPooled = Pooling(output1,2,1,'average')\n",
        "print(\"Maximum Pooling : \\n\",maxPooled)"
      ],
      "metadata": {
        "colab": {
          "base_uri": "https://localhost:8080/"
        },
        "id": "3Kj3DvU1hkw-",
        "outputId": "7929de14-2957-436b-be1e-ac3e730ef3d2"
      },
      "execution_count": 12,
      "outputs": [
        {
          "output_type": "stream",
          "name": "stdout",
          "text": [
            "Maximum Pooling : \n",
            " [[37.5  38.25]\n",
            " [36.   33.  ]]\n"
          ]
        }
      ]
    },
    {
      "cell_type": "code",
      "source": [
        "sumPooledFlattened = sumPooled.flatten()\n",
        "print(\"Flattened version of sum pooled: \",sumPooled.flatten())"
      ],
      "metadata": {
        "colab": {
          "base_uri": "https://localhost:8080/"
        },
        "id": "v2HaAw6Hh4EB",
        "outputId": "32f563d9-c88f-47fb-faff-085a3f6af93f"
      },
      "execution_count": 13,
      "outputs": [
        {
          "output_type": "stream",
          "name": "stdout",
          "text": [
            "Flattened version of sum pooled:  [150. 153. 144. 132.]\n"
          ]
        }
      ]
    },
    {
      "cell_type": "code",
      "source": [
        "avgPooledFlattened = avgPooled.flatten()\n",
        "print(\"Flattened version of average pooled: \",avgPooledFlattened)"
      ],
      "metadata": {
        "colab": {
          "base_uri": "https://localhost:8080/"
        },
        "id": "8ap-sSY-iUjy",
        "outputId": "6f19b959-cd5f-48bc-ae7b-dbbe5c517e4d"
      },
      "execution_count": 14,
      "outputs": [
        {
          "output_type": "stream",
          "name": "stdout",
          "text": [
            "Flattened version of average pooled:  [37.5  38.25 36.   33.  ]\n"
          ]
        }
      ]
    },
    {
      "cell_type": "code",
      "source": [
        "maxPooledFlattened = maxPooled.flatten()\n",
        "print(\"Flattened version of max pooled: \", maxPooledFlattened)"
      ],
      "metadata": {
        "colab": {
          "base_uri": "https://localhost:8080/"
        },
        "id": "amdpGLHHiacD",
        "outputId": "91895105-7910-44dd-e7ef-7e4c8f43cfc2"
      },
      "execution_count": 15,
      "outputs": [
        {
          "output_type": "stream",
          "name": "stdout",
          "text": [
            "Flattened version of max pooled:  [37.5  38.25 36.   33.  ]\n"
          ]
        }
      ]
    },
    {
      "cell_type": "code",
      "source": [
        "X = []\n",
        "(X.append(maxPooledFlattened[0:]))\n",
        "T = np.array([[1]])\n",
        "W1 = np.random.uniform(size=(1,4),low = -0.5, high = 0.8)\n",
        "W2 = (np.random.uniform(size=(1,2),low = -0.5, high = 0.8))[0]\n",
        "B1 = np.array([1,1])\n",
        "B2 = np.array([0.5])\n",
        "alpha = 0.1\n",
        "epoch = 200\n",
        "error_tolerance = 0.40"
      ],
      "metadata": {
        "id": "WzWk49GUiq_M"
      },
      "execution_count": 16,
      "outputs": []
    },
    {
      "cell_type": "code",
      "source": [
        "def BipolarSigmoid(x):\n",
        "  return (2/(1+math.exp(-x))) - 1"
      ],
      "metadata": {
        "id": "7cvcxBHdjsJk"
      },
      "execution_count": 17,
      "outputs": []
    },
    {
      "cell_type": "code",
      "source": [
        "def BipolarSigmoidDerivative(x):\n",
        "  return 0.5*(1-x)*(1+x) "
      ],
      "metadata": {
        "id": "ptk5fzKmj9On"
      },
      "execution_count": 18,
      "outputs": []
    },
    {
      "cell_type": "code",
      "source": [
        "def DeltaHidden(delta_in, Z):\n",
        "  return delta_in * BipolarSigmoidDerivative(Z)"
      ],
      "metadata": {
        "id": "c9Qx8mHTkLsL"
      },
      "execution_count": 19,
      "outputs": []
    },
    {
      "cell_type": "code",
      "source": [
        "def Perceptron(x,w1,w2,b1,b2,t,a,e):\n",
        "  for count in range(e):\n",
        "    for i,row in enumerate(x):\n",
        "      Zin = np.dot(row,w1.T) + b1\n",
        "      Zout = np.vectorize(BipolarSigmoid)(Zin)\n",
        "      Yin = np.dot(Zout,w2.transpose()) + b2\n",
        "      Y = np.vectorize(BipolarSigmoid)(Yin)\n",
        "      if(t[1] != Y[0]):\n",
        "        delta_y = (t[i] - Y) * (BipolarSigmoidDerivative(Y))\n",
        "        delta_in_z = delta_y * w2\n",
        "        delta_Z = delta_in_z * np.vectorize(BipolarSigmoidDerivative)(Zout)\n",
        "        for index in range(len(w1)):\n",
        "          w1[index] = (w1[index].T + a*delta_Z[index]*row.T).T\n",
        "        w2 = (w2.T + a*delta_y*Zout.T).T\n",
        "        b1 = b1 + a*delta_Z\n",
        "        b2 = b2 + a*delta_y\n",
        "  return GetResult(w1,w2,b1,b2)   "
      ],
      "metadata": {
        "id": "hLFMNJhIkfkA"
      },
      "execution_count": 28,
      "outputs": []
    },
    {
      "cell_type": "code",
      "source": [
        "def GetResult(w1,w2,b1,b2):\n",
        "  result=[]\n",
        "  result.append(w1)\n",
        "  result.append(w2)\n",
        "  result.append(b1)\n",
        "  result.append(b2)\n",
        "  return result"
      ],
      "metadata": {
        "id": "5IUaBRX75dcT"
      },
      "execution_count": 29,
      "outputs": []
    },
    {
      "cell_type": "code",
      "source": [
        "epoch =1\n",
        "adjustedweights=Perceptron(X,W1,W2,B1,B2,T,alpha,epoch)\n",
        "W1=adjustedweights[0]\n",
        "W2=adjustedweights[1]\n",
        "B1=adjustedweights[2]\n",
        "B2=adjustedweights[3]"
      ],
      "metadata": {
        "id": "WEVvYcYJ42XU"
      },
      "execution_count": null,
      "outputs": []
    },
    {
      "cell_type": "code",
      "source": [
        "print(\"W1 : \",W1)\n",
        "print(\"W2 : \",W2)\n",
        "print(\"B1 : \",B1)\n",
        "print(\"B2 : \",B2)"
      ],
      "metadata": {
        "colab": {
          "base_uri": "https://localhost:8080/"
        },
        "id": "e2OXeTAM7UVf",
        "outputId": "c2772f43-1e71-489a-a357-482d6ca6c99f"
      },
      "execution_count": 32,
      "outputs": [
        {
          "output_type": "stream",
          "name": "stdout",
          "text": [
            "W1 :  [[-0.35982032  0.17316977 -0.34057831 -0.31769124]]\n",
            "W2 :  [ 0.16697195 -0.24814035]\n",
            "B1 :  [1 1]\n",
            "B2 :  [0.5]\n"
          ]
        }
      ]
    }
  ]
}