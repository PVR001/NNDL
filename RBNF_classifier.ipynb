{
  "nbformat": 4,
  "nbformat_minor": 0,
  "metadata": {
    "colab": {
      "provenance": []
    },
    "kernelspec": {
      "name": "python3",
      "display_name": "Python 3"
    },
    "language_info": {
      "name": "python"
    }
  },
  "cells": [
    {
      "cell_type": "code",
      "execution_count": 1,
      "metadata": {
        "id": "5MrpAZuF-sRZ"
      },
      "outputs": [],
      "source": [
        "import numpy as np\n",
        "import scipy as sp\n",
        "import pandas as pd\n",
        "import seaborn as sns\n",
        "import math\n",
        "import matplotlib.pyplot as plt\n",
        "from sklearn.svm import SVC\n",
        "from sklearn.model_selection import GridSearchCV\n",
        "from sklearn.model_selection import validation_curve\n",
        "from sklearn.model_selection import learning_curve"
      ]
    },
    {
      "cell_type": "code",
      "source": [
        "import numpy as np\n",
        "from sklearn.model_selection import train_test_split\n",
        "\n",
        "db = pd.read_csv(\"gender_submission.csv\")\n",
        "print(\"Database raw shape (%s,%s)\" % np.shape(db))"
      ],
      "metadata": {
        "colab": {
          "base_uri": "https://localhost:8080/"
        },
        "id": "buRseMp_-xP3",
        "outputId": "9c8b403a-85d3-4c42-e4a5-532e8ed917ed"
      },
      "execution_count": 3,
      "outputs": [
        {
          "output_type": "stream",
          "name": "stdout",
          "text": [
            "Database raw shape (418,2)\n"
          ]
        }
      ]
    },
    {
      "cell_type": "code",
      "source": [
        "train = pd.read_csv('train.csv')\n",
        "test = pd.read_csv('test.csv')\n",
        "train.info()\n",
        "# test.info"
      ],
      "metadata": {
        "colab": {
          "base_uri": "https://localhost:8080/"
        },
        "id": "4QjTGxM0_qQO",
        "outputId": "40151937-878c-4768-9aa9-2bdfb43e9551"
      },
      "execution_count": 4,
      "outputs": [
        {
          "output_type": "stream",
          "name": "stdout",
          "text": [
            "<class 'pandas.core.frame.DataFrame'>\n",
            "RangeIndex: 891 entries, 0 to 890\n",
            "Data columns (total 12 columns):\n",
            " #   Column       Non-Null Count  Dtype  \n",
            "---  ------       --------------  -----  \n",
            " 0   PassengerId  891 non-null    int64  \n",
            " 1   Survived     891 non-null    int64  \n",
            " 2   Pclass       891 non-null    int64  \n",
            " 3   Name         891 non-null    object \n",
            " 4   Sex          891 non-null    object \n",
            " 5   Age          714 non-null    float64\n",
            " 6   SibSp        891 non-null    int64  \n",
            " 7   Parch        891 non-null    int64  \n",
            " 8   Ticket       891 non-null    object \n",
            " 9   Fare         891 non-null    float64\n",
            " 10  Cabin        204 non-null    object \n",
            " 11  Embarked     889 non-null    object \n",
            "dtypes: float64(2), int64(5), object(5)\n",
            "memory usage: 83.7+ KB\n"
          ]
        }
      ]
    },
    {
      "cell_type": "code",
      "source": [
        "train['Title'] = train.Name.apply(lambda name: name.split(',')[1].split('.')[0].strip())\n",
        "test['Title'] = test.Name.apply(lambda name: name.split(',')[1].split('.')[0].strip())\n",
        "# normalize the titles\n",
        "normalized_titles = {\n",
        "    \"Capt\":       \"Officer\",\n",
        "    \"Col\":        \"Officer\",\n",
        "    \"Major\":      \"Officer\",\n",
        "    \"Jonkheer\":   \"Royalty\",\n",
        "    \"Don\":        \"Royalty\",\n",
        "    \"Sir\" :       \"Royalty\",\n",
        "    \"Dr\":         \"Officer\",\n",
        "    \"Rev\":        \"Officer\",\n",
        "    \"the Countess\":\"Royalty\",\n",
        "    \"Dona\":       \"Royalty\",\n",
        "    \"Mme\":        \"Mrs\",\n",
        "    \"Mlle\":       \"Miss\",\n",
        "    \"Ms\":         \"Mrs\",\n",
        "    \"Mr\" :        \"Mr\",\n",
        "    \"Mrs\" :       \"Mrs\",\n",
        "    \"Miss\" :      \"Miss\",\n",
        "    \"Master\" :    \"Master\",\n",
        "    \"Lady\" :      \"Royalty\"\n",
        "}\n",
        "\n",
        "train.Title = train.Title.map(normalized_titles)\n",
        "test.Title = train.Title.map(normalized_titles)\n",
        "\n",
        "train.Title.replace(['Mr', 'Miss', 'Mrs', 'Master', 'Officer', 'Royalty'], [1, 2, 3, 4, 5, 6], inplace=True)\n",
        "test.Title.replace(['Mr', 'Miss', 'Mrs', 'Master', 'Officer', 'Royalty'], [1, 2, 3, 4, 5, 6], inplace=True)\n"
      ],
      "metadata": {
        "id": "kWMBuRj1_sQH"
      },
      "execution_count": 5,
      "outputs": []
    },
    {
      "cell_type": "code",
      "source": [
        "# Drop the name feature\n",
        "train = train.drop('Name', 1)\n",
        "test = test.drop('Name', 1)\n",
        "# Encoding the features\n",
        "train.Embarked.replace(['S', 'C', 'Q'], [1, 2, 3], inplace=True)\n",
        "train.Sex.replace(['male', 'female'], [1, 2], inplace=True)\n",
        "test.Embarked.replace(['S', 'C', 'Q'], [1, 2, 3], inplace=True)\n",
        "test.Sex.replace(['male', 'female'], [1, 2], inplace=True)\n",
        "\n",
        "# Temporary drop of some columns\n",
        "train = train.drop('Ticket', 1)\n",
        "train = train.drop('Cabin', 1)\n",
        "test = test.drop('Ticket', 1)\n",
        "test = test.drop('Cabin', 1)\n",
        "\n",
        "#Fill NaN values of Age with the mean Age\n",
        "train['Age'] = train['Age'].fillna(train['Age'].sum()/len(train))\n",
        "test['Age'] = test['Age'].fillna(test['Age'].sum()/len(test))\n",
        "#Drop other raw where there is a NaN value\n",
        "train= train.dropna(how='any',axis=0)  \n",
        "test = test.fillna(0)\n",
        "\n",
        "train.info()"
      ],
      "metadata": {
        "colab": {
          "base_uri": "https://localhost:8080/"
        },
        "id": "aDGYPnMM_u2W",
        "outputId": "752c9a9a-ce4f-4810-bd75-dda94bbe0e8b"
      },
      "execution_count": 6,
      "outputs": [
        {
          "output_type": "stream",
          "name": "stdout",
          "text": [
            "<class 'pandas.core.frame.DataFrame'>\n",
            "Int64Index: 889 entries, 0 to 890\n",
            "Data columns (total 10 columns):\n",
            " #   Column       Non-Null Count  Dtype  \n",
            "---  ------       --------------  -----  \n",
            " 0   PassengerId  889 non-null    int64  \n",
            " 1   Survived     889 non-null    int64  \n",
            " 2   Pclass       889 non-null    int64  \n",
            " 3   Sex          889 non-null    int64  \n",
            " 4   Age          889 non-null    float64\n",
            " 5   SibSp        889 non-null    int64  \n",
            " 6   Parch        889 non-null    int64  \n",
            " 7   Fare         889 non-null    float64\n",
            " 8   Embarked     889 non-null    float64\n",
            " 9   Title        889 non-null    int64  \n",
            "dtypes: float64(3), int64(7)\n",
            "memory usage: 76.4 KB\n"
          ]
        },
        {
          "output_type": "stream",
          "name": "stderr",
          "text": [
            "/usr/local/lib/python3.7/dist-packages/ipykernel_launcher.py:2: FutureWarning: In a future version of pandas all arguments of DataFrame.drop except for the argument 'labels' will be keyword-only\n",
            "  \n",
            "/usr/local/lib/python3.7/dist-packages/ipykernel_launcher.py:3: FutureWarning: In a future version of pandas all arguments of DataFrame.drop except for the argument 'labels' will be keyword-only\n",
            "  This is separate from the ipykernel package so we can avoid doing imports until\n",
            "/usr/local/lib/python3.7/dist-packages/ipykernel_launcher.py:11: FutureWarning: In a future version of pandas all arguments of DataFrame.drop except for the argument 'labels' will be keyword-only\n",
            "  # This is added back by InteractiveShellApp.init_path()\n",
            "/usr/local/lib/python3.7/dist-packages/ipykernel_launcher.py:12: FutureWarning: In a future version of pandas all arguments of DataFrame.drop except for the argument 'labels' will be keyword-only\n",
            "  if sys.path[0] == '':\n",
            "/usr/local/lib/python3.7/dist-packages/ipykernel_launcher.py:13: FutureWarning: In a future version of pandas all arguments of DataFrame.drop except for the argument 'labels' will be keyword-only\n",
            "  del sys.path[0]\n",
            "/usr/local/lib/python3.7/dist-packages/ipykernel_launcher.py:14: FutureWarning: In a future version of pandas all arguments of DataFrame.drop except for the argument 'labels' will be keyword-only\n",
            "  \n"
          ]
        }
      ]
    },
    {
      "cell_type": "code",
      "source": [
        "Data_train = train.values\n",
        "Data_test = test.values\n",
        "\n",
        "# m = number of input samples\n",
        "m_train = len(Data_train)\n",
        "m_test = len(Data_test)\n",
        "# prediction for training\n",
        "Ytrain = Data_train[:m_train,1]\n",
        "# features for training\n",
        "Xtrain = Data_train[:m_train,2:]\n",
        "# features for testing\n",
        "Xtest = Data_test[:m_test,1:]\n",
        "\n",
        "parameters = {'C': [1, 10, 50, 100,200,300, 1000],'gamma':[0.0001,0.001,0.01,0.1,1.]}\n",
        "#run SVM with rbf kernel\n",
        "rbf_SVM = SVC(kernel='rbf')\n",
        "# ADD CODE: DO THE SAME AS ABOVE FOR RBF KERNEL\n",
        "clf = GridSearchCV(rbf_SVM,parameters,cv=5)\n",
        "clf.fit(Xtrain,Ytrain)\n",
        "\n",
        "print ('\\n RESULTS FOR rbf KERNEL \\n')\n",
        "\n",
        "best_param = clf.best_params_\n",
        "value_best_param_rbf_gammma = best_param['gamma']\n",
        "value_best_param_rbf_c = best_param['C']\n",
        "estim_best = clf.best_estimator_\n",
        "print(\"Best Estimator: \", estim_best)\n",
        "print(\"Best parameters set found:\",best_param)\n",
        "\n",
        "#get training and test error for the best SVM model from CV\n",
        "best_SVM = SVC(C = value_best_param_rbf_c, gamma = value_best_param_rbf_gammma, kernel='rbf')\n",
        "\n",
        "best_SVM.fit(Xtrain,Ytrain)\n",
        "\n",
        "training_error = 1. - best_SVM.score(Xtrain,Ytrain)\n",
        "print(\"Training error: \", training_error)\n",
        "\n",
        "Ytest_predicted = best_SVM.predict(Xtest)\n",
        "\n",
        "print(\"Accuracy =\",1-training_error);"
      ],
      "metadata": {
        "colab": {
          "base_uri": "https://localhost:8080/"
        },
        "id": "-C4oklBO_w-X",
        "outputId": "1d9d3c4f-d822-45d9-96a5-2787cdec0ab8"
      },
      "execution_count": 7,
      "outputs": [
        {
          "output_type": "stream",
          "name": "stdout",
          "text": [
            "\n",
            " RESULTS FOR rbf KERNEL \n",
            "\n",
            "Best Estimator:  SVC(C=1000, gamma=0.0001)\n",
            "Best parameters set found: {'C': 1000, 'gamma': 0.0001}\n",
            "Training error:  0.17210348706411693\n",
            "Accuracy = 0.8278965129358831\n"
          ]
        }
      ]
    },
    {
      "cell_type": "code",
      "source": [
        "def plot_learning_curve(estimator, title, X, y, ylim=None, cv=None,\n",
        "                        n_jobs=-1, train_sizes= np.linspace(.1, 1.0, 10)):\n",
        "    \"\"\"Generate a simple plot of the test and training learning curve\"\"\"\n",
        "    plt.figure()\n",
        "    plt.title(title)\n",
        "    if ylim is not None:\n",
        "        plt.ylim(*ylim)\n",
        "    plt.xlabel(\"Training examples\")\n",
        "    plt.ylabel(\"Score\")\n",
        "    train_sizes, train_scores, test_scores = learning_curve(\n",
        "        estimator, X, y, cv=cv, n_jobs=n_jobs, train_sizes=train_sizes)\n",
        "    train_scores_mean = np.mean(train_scores, axis=1)\n",
        "    train_scores_std = np.std(train_scores, axis=1)\n",
        "    test_scores_mean = np.mean(test_scores, axis=1)\n",
        "    test_scores_std = np.std(test_scores, axis=1)\n",
        "    plt.grid()\n",
        "\n",
        "    plt.fill_between(train_sizes, train_scores_mean - train_scores_std,\n",
        "                     train_scores_mean + train_scores_std, alpha=0.1,\n",
        "                     color=\"r\")\n",
        "    plt.fill_between(train_sizes, test_scores_mean - test_scores_std,\n",
        "                     test_scores_mean + test_scores_std, alpha=0.1, color=\"g\")\n",
        "    plt.plot(train_sizes, train_scores_mean, 'o-', color=\"r\",\n",
        "             label=\"Training score\")\n",
        "    plt.plot(train_sizes, test_scores_mean, 'o-', color=\"g\",\n",
        "             label=\"Cross-validation score\")\n",
        "\n",
        "    plt.legend(loc=\"best\")\n",
        "    return plt\n",
        "\n",
        "plot_learning_curve(estim_best,\"SVC learning curves\",Xtrain,Ytrain,cv=5)\n",
        "plt.show()"
      ],
      "metadata": {
        "colab": {
          "base_uri": "https://localhost:8080/",
          "height": 295
        },
        "id": "hbtDdn3C_zqg",
        "outputId": "f16ad020-58fd-4a40-d5ef-82b68f77cf8c"
      },
      "execution_count": 8,
      "outputs": [
        {
          "output_type": "display_data",
          "data": {
            "text/plain": [
              "<Figure size 432x288 with 1 Axes>"
            ],
            "image/png": "[encoded data removed]"
          },
          "metadata": {
            "needs_background": "light"
          }
        }
      ]
    }
  ]
}