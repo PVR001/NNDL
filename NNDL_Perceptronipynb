{
  "nbformat": 4,
  "nbformat_minor": 0,
  "metadata": {
    "colab": {
      "provenance": []
    },
    "kernelspec": {
      "name": "python3",
      "display_name": "Python 3"
    },
    "language_info": {
      "name": "python"
    }
  },
  "cells": [
    {
      "cell_type": "markdown",
      "source": [
        "1. Create a perceptron to demonstrate the following\n",
        "a. AND operation\n",
        "b. OR operation\n",
        "c. XOR operation"
      ],
      "metadata": {
        "id": "vVRkPsRu7zuQ"
      }
    },
    {
      "cell_type": "code",
      "execution_count": null,
      "metadata": {
        "colab": {
          "base_uri": "https://localhost:8080/"
        },
        "id": "OgrUo1et3LTd",
        "outputId": "6bfd0825-4276-4545-8892-2995b4a6a808"
      },
      "outputs": [
        {
          "output_type": "stream",
          "name": "stdout",
          "text": [
            "\n",
            "\tADD OPERATION\n",
            "______________________________\n",
            "\n",
            "X\tY\tActual Values\tPredicted values\n",
            "0\t0\t0\t\t-0.5\n",
            "0\t1\t0\t\t0.0\n",
            "1\t0\t0\t\t1.0\n",
            "1\t1\t1\t\t1.5\n",
            "\n",
            "Error: -1.0\n"
          ]
        }
      ],
      "source": [
        "##AND Operation\n",
        "w1=1.5\n",
        "w2=0.5\n",
        "w0=-0.5\n",
        "\n",
        "points=[(0,0),(0,1),(1,0),(1,1)]\n",
        "output=[]\n",
        "error=0.0\n",
        "print('\\n\\tADD OPERATION\\n______________________________\\n')\n",
        "print('X\\tY\\tActual Values\\tPredicted values')\n",
        "for (x,y) in points:\n",
        "  o=w1*x+w2*y+w0\n",
        "  error+=(x*y)-o\n",
        "  print('{}\\t{}\\t{}\\t\\t{}'.format(x,y,(x*y),o))\n",
        "  output.append(o)\n",
        "print('\\nError: {}'.format(error))"
      ]
    },
    {
      "cell_type": "code",
      "source": [
        "##OR Operation\n",
        "OR = lambda x,y:1 if(x+y==2) else (x+y)\n",
        "output=[]\n",
        "error=0.0\n",
        "print('\\n\\tOR OPERATION\\n______________________________\\n')\n",
        "print('X\\tY\\tActual Values\\tPredicted values')\n",
        "for (x,y) in points:\n",
        "  o=w1*x+w2*y+w0\n",
        "  error+=OR(x,y)-o\n",
        "  print('{}\\t{}\\t{}\\t\\t{}'.format(x,y,OR(x,y),o))\n",
        "  output.append(o)\n",
        "print('\\nError: {}'.format(error))"
      ],
      "metadata": {
        "colab": {
          "base_uri": "https://localhost:8080/"
        },
        "id": "hwATPp9V5WdJ",
        "outputId": "38277ffc-8a87-410a-9ab6-57e6e6a0803c"
      },
      "execution_count": null,
      "outputs": [
        {
          "output_type": "stream",
          "name": "stdout",
          "text": [
            "\n",
            "\tOR OPERATION\n",
            "______________________________\n",
            "\n",
            "X\tY\tActual Values\tPredicted values\n",
            "0\t0\t0\t\t-0.5\n",
            "0\t1\t1\t\t0.0\n",
            "1\t0\t1\t\t1.0\n",
            "1\t1\t1\t\t1.5\n",
            "\n",
            "Error: 1.0\n"
          ]
        }
      ]
    },
    {
      "cell_type": "code",
      "source": [
        "##XOR Operation\n",
        "XOR = lambda x,y:0 if(x==y) else 1\n",
        "output=[]\n",
        "error=0.0\n",
        "print('\\n\\tXOR OPERATION\\n______________________________\\n')\n",
        "print('X\\tY\\tActual Values\\tPredicted values')\n",
        "for (x,y) in points:\n",
        "  o=w1*x+w2*y+w0\n",
        "  error+=XOR(x,y)-o\n",
        "  print('{}\\t{}\\t{}\\t\\t{}'.format(x,y,XOR(x,y),o))\n",
        "  output.append(o)\n",
        "print('\\nError: {}'.format(error))"
      ],
      "metadata": {
        "colab": {
          "base_uri": "https://localhost:8080/"
        },
        "id": "uaoGAGPI-GM0",
        "outputId": "72ecdfe3-3aea-4fb9-8dd1-185a9634aa32"
      },
      "execution_count": null,
      "outputs": [
        {
          "output_type": "stream",
          "name": "stdout",
          "text": [
            "\n",
            "\tXOR OPERATION\n",
            "______________________________\n",
            "\n",
            "X\tY\tActual Values\tPredicted values\n",
            "0\t0\t0\t\t-0.5\n",
            "0\t1\t1\t\t0.0\n",
            "1\t0\t1\t\t1.0\n",
            "1\t1\t0\t\t1.5\n",
            "\n",
            "Error: 0.0\n"
          ]
        }
      ]
    },
    {
      "cell_type": "code",
      "source": [],
      "metadata": {
        "id": "1NGX7lAp-ch3"
      },
      "execution_count": null,
      "outputs": []
    }
  ]
}
